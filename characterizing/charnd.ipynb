{
 "nbformat": 4,
 "nbformat_minor": 2,
 "metadata": {
  "language_info": {
   "name": "python",
   "codemirror_mode": {
    "name": "ipython",
    "version": 3
   },
   "version": "3.7.6-final"
  },
  "orig_nbformat": 2,
  "file_extension": ".py",
  "mimetype": "text/x-python",
  "name": "python",
  "npconvert_exporter": "python",
  "pygments_lexer": "ipython3",
  "version": 3,
  "kernelspec": {
   "name": "python37664bitvenvvenv08eb0867a0934f36bf7966d6413975db",
   "display_name": "Python 3.7.6 64-bit ('.venv': venv)"
  }
 },
 "cells": [
  {
   "cell_type": "code",
   "execution_count": 1,
   "metadata": {},
   "outputs": [],
   "source": [
    "import numpy as np\n",
    "import pandas as pd\n",
    "import matplotlib.pyplot as plt"
   ]
  },
  {
   "cell_type": "code",
   "execution_count": 8,
   "metadata": {},
   "outputs": [
    {
     "output_type": "execute_result",
     "data": {
      "text/plain": "   height  weight\n0   71.74  259.88\n1   71.00  186.73\n2   63.83  172.17\n3   67.74  174.66\n4   67.28  169.20",
      "text/html": "<div>\n<style scoped>\n    .dataframe tbody tr th:only-of-type {\n        vertical-align: middle;\n    }\n\n    .dataframe tbody tr th {\n        vertical-align: top;\n    }\n\n    .dataframe thead th {\n        text-align: right;\n    }\n</style>\n<table border=\"1\" class=\"dataframe\">\n  <thead>\n    <tr style=\"text-align: right;\">\n      <th></th>\n      <th>height</th>\n      <th>weight</th>\n    </tr>\n  </thead>\n  <tbody>\n    <tr>\n      <th>0</th>\n      <td>71.74</td>\n      <td>259.88</td>\n    </tr>\n    <tr>\n      <th>1</th>\n      <td>71.00</td>\n      <td>186.73</td>\n    </tr>\n    <tr>\n      <th>2</th>\n      <td>63.83</td>\n      <td>172.17</td>\n    </tr>\n    <tr>\n      <th>3</th>\n      <td>67.74</td>\n      <td>174.66</td>\n    </tr>\n    <tr>\n      <th>4</th>\n      <td>67.28</td>\n      <td>169.20</td>\n    </tr>\n  </tbody>\n</table>\n</div>"
     },
     "metadata": {},
     "execution_count": 8
    }
   ],
   "source": [
    "dataset=pd.read_csv(\"../resources/ND/height_weight.csv\")[[\"height\", \"weight\"]]\n",
    "dataset.head()"
   ]
  },
  {
   "cell_type": "code",
   "execution_count": 11,
   "metadata": {},
   "outputs": [
    {
     "output_type": "stream",
     "name": "stdout",
     "text": "[[  18.60200779   78.50218098]\n [  78.50218098 1512.91208783]]\n"
    }
   ],
   "source": [
    "covariance = np.cov(dataset.T) # np expects each col to be observation and row to be variable, so have to etierh transpose (dataset.T), or rowvar=False\n",
    "print(covariance)"
   ]
  },
  {
   "cell_type": "code",
   "execution_count": 16,
   "metadata": {},
   "outputs": [
    {
     "output_type": "stream",
     "name": "stdout",
     "text": "height       weight\nheight  18.602008    78.502181\nweight  78.502181  1512.912088\n"
    }
   ],
   "source": [
    "covariance = dataset.cov() # or just use the pandas method\n",
    "print(covariance)"
   ]
  },
  {
   "cell_type": "code",
   "execution_count": 17,
   "metadata": {},
   "outputs": [
    {
     "output_type": "stream",
     "name": "stdout",
     "text": "height    weight\nheight  1.000000  0.467945\nweight  0.467945  1.000000\n"
    }
   ],
   "source": [
    "corr = dataset.corr()\n",
    "print (corr)"
   ]
  }
 ]
}